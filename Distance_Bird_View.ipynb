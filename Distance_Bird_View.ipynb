{
 "cells": [
  {
   "cell_type": "code",
   "execution_count": 2,
   "id": "2f2c37ac",
   "metadata": {},
   "outputs": [
    {
     "name": "stdout",
     "output_type": "stream",
     "text": [
      "X koordinatını giriniz: 29.77481439\n",
      "Y koordinatını giriniz: 40.90748613\n",
      "\n",
      "Girilen noktaya en yakın 3 nokta: [((29.7748143906459, 40.9074861268362), 3.229063595010453e-09), ((29.64853481783882, 40.97181999433264), 0.14172288610235562), ((29.55455932179634, 41.0139357900076), 0.24462997605594447)]\n"
     ]
    }
   ],
   "source": [
    "import math\n",
    "import pandas as pd\n",
    "\n",
    "def distance(x1, y1, x2, y2):\n",
    "    return math.sqrt((x1 - x2)**2 + (y1 - y2)**2)\n",
    "\n",
    "def find_nearest_points(x, y, data_points, k=3):\n",
    "    distances = []\n",
    "\n",
    "    for point in data_points:\n",
    "        x2, y2 = point\n",
    "        dist = distance(x, y, x2, y2)\n",
    "        distances.append((point, dist))\n",
    "\n",
    "    sorted_distances = sorted(distances, key=lambda x: x[1])\n",
    "\n",
    "    nearest_points = sorted_distances[:k]\n",
    "\n",
    "    return nearest_points\n",
    "\n",
    "# Excel dosyasından veri okuma\n",
    "excel_path = 'veriler.xlsx'  # Dosya yolunu kendi Excel dosyanıza göre güncelleyin\n",
    "df = pd.read_excel(excel_path, names=['X', 'Y'])\n",
    "\n",
    "# Veri noktalarını çiftler halinde al\n",
    "data_points = [(row['X'], row['Y']) for index, row in df.iterrows()]\n",
    "\n",
    "# Kullanıcıdan x ve y koordinatlarını al\n",
    "input_x = float(input(\"X koordinatını giriniz: \"))\n",
    "input_y = float(input(\"Y koordinatını giriniz: \"))\n",
    "\n",
    "# En yakın 3 noktayı bul\n",
    "nearest_points = find_nearest_points(input_x, input_y, data_points)\n",
    "\n",
    "# Sonuçları yazdır\n",
    "print(f\"\\nGirilen noktaya en yakın 3 nokta: {nearest_points}\")\n"
   ]
  },
  {
   "cell_type": "code",
   "execution_count": null,
   "id": "27d55089",
   "metadata": {},
   "outputs": [],
   "source": []
  }
 ],
 "metadata": {
  "kernelspec": {
   "display_name": "Python 3 (ipykernel)",
   "language": "python",
   "name": "python3"
  },
  "language_info": {
   "codemirror_mode": {
    "name": "ipython",
    "version": 3
   },
   "file_extension": ".py",
   "mimetype": "text/x-python",
   "name": "python",
   "nbconvert_exporter": "python",
   "pygments_lexer": "ipython3",
   "version": "3.11.5"
  }
 },
 "nbformat": 4,
 "nbformat_minor": 5
}
